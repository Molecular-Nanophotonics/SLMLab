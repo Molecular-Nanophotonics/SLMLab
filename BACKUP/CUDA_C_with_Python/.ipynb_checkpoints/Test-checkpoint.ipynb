{
 "cells": [
  {
   "cell_type": "code",
   "execution_count": null,
   "metadata": {},
   "outputs": [],
   "source": [
    "import numpy as np\n",
    "import ctypes\n",
    "import cv2\n",
    "from ctypes import *"
   ]
  },
  {
   "cell_type": "code",
   "execution_count": null,
   "metadata": {},
   "outputs": [],
   "source": [
    "def get_cuda_gray():\n",
    "    dll = ctypes.CDLL('cuda/x64/Debug/cuda.dll', mode=ctypes.RTLD_GLOBAL)\n",
    "    func = dll.cuda_gray\n",
    "    func.argtypes = [POINTER(c_ubyte), POINTER(c_ubyte), POINTER(c_ubyte), POINTER(c_ubyte), c_size_t]\n",
    "    return func\n",
    "\n",
    "__cuda_gray = get_cuda_gray()\n",
    "\n",
    "\n",
    "def cuda_gray(a, b, c, d, size):\n",
    "    a_p = a.ctypes.data_as(POINTER(c_ubyte))\n",
    "    b_p = b.ctypes.data_as(POINTER(c_ubyte))\n",
    "    c_p = c.ctypes.data_as(POINTER(c_ubyte))\n",
    "    d_p = d.ctypes.data_as(POINTER(c_ubyte))\n",
    "    __cuda_gray(a_p, b_p, c_p, d_p, size)"
   ]
  },
  {
   "cell_type": "code",
   "execution_count": null,
   "metadata": {},
   "outputs": [],
   "source": [
    "img = cv2.imread('river.jpeg')\n",
    "rows, columns = img.shape[:2]\n",
    "b, g, r = cv2.split(img)\n",
    "gray = np.zeros((rows * columns, 1))\n",
    "\n",
    "b = np.copy(b.reshape((rows * columns, 1))).astype('uint8')\n",
    "g = np.copy(g.reshape((rows * columns, 1))).astype('uint8')\n",
    "r = np.copy(r.reshape((rows * columns, 1))).astype('uint8')\n",
    "gray = np.copy(gray).astype('uint8')\n",
    "\n",
    "cuda_gray(b, g, r, gray, rows * columns)\n",
    "gray = gray.reshape(rows, columns,)\n",
    "cv2.imwrite('gray.jpg', gray)"
   ]
  },
  {
   "cell_type": "code",
   "execution_count": null,
   "metadata": {},
   "outputs": [],
   "source": []
  }
 ],
 "metadata": {
  "kernelspec": {
   "display_name": "Python 3",
   "language": "python",
   "name": "python3"
  },
  "language_info": {
   "codemirror_mode": {
    "name": "ipython",
    "version": 3
   },
   "file_extension": ".py",
   "mimetype": "text/x-python",
   "name": "python",
   "nbconvert_exporter": "python",
   "pygments_lexer": "ipython3",
   "version": "3.6.5"
  }
 },
 "nbformat": 4,
 "nbformat_minor": 2
}
